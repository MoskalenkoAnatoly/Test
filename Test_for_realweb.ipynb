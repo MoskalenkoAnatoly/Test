{
 "cells": [
  {
   "cell_type": "code",
   "execution_count": 1,
   "metadata": {},
   "outputs": [],
   "source": [
    "import pandas as pd\n",
    "import matplotlib.pyplot as plt\n",
    "from scipy import stats as st"
   ]
  },
  {
   "cell_type": "code",
   "execution_count": 2,
   "metadata": {},
   "outputs": [
    {
     "name": "stdout",
     "output_type": "stream",
     "text": [
      "<class 'pandas.core.frame.DataFrame'>\n",
      "RangeIndex: 52724 entries, 0 to 52723\n",
      "Data columns (total 14 columns):\n",
      " #   Column              Non-Null Count  Dtype         \n",
      "---  ------              --------------  -----         \n",
      " 0   date                52724 non-null  datetime64[ns]\n",
      " 1   source              52724 non-null  object        \n",
      " 2   medium              52724 non-null  object        \n",
      " 3   delivery_available  52724 non-null  object        \n",
      " 4   device_type         52724 non-null  object        \n",
      " 5   promo_activated     52724 non-null  object        \n",
      " 6   filter_used         52724 non-null  object        \n",
      " 7   pageviews           52724 non-null  int64         \n",
      " 8   visits              52724 non-null  int64         \n",
      " 9   productClick        52724 non-null  int64         \n",
      " 10  addToCart           52724 non-null  int64         \n",
      " 11  checkout            52724 non-null  int64         \n",
      " 12  transactions        52724 non-null  int64         \n",
      " 13  revenue             52724 non-null  float64       \n",
      "dtypes: datetime64[ns](1), float64(1), int64(6), object(6)\n",
      "memory usage: 5.6+ MB\n"
     ]
    },
    {
     "data": {
      "text/html": [
       "<div>\n",
       "<style scoped>\n",
       "    .dataframe tbody tr th:only-of-type {\n",
       "        vertical-align: middle;\n",
       "    }\n",
       "\n",
       "    .dataframe tbody tr th {\n",
       "        vertical-align: top;\n",
       "    }\n",
       "\n",
       "    .dataframe thead th {\n",
       "        text-align: right;\n",
       "    }\n",
       "</style>\n",
       "<table border=\"1\" class=\"dataframe\">\n",
       "  <thead>\n",
       "    <tr style=\"text-align: right;\">\n",
       "      <th></th>\n",
       "      <th>date</th>\n",
       "      <th>source</th>\n",
       "      <th>medium</th>\n",
       "      <th>delivery_available</th>\n",
       "      <th>device_type</th>\n",
       "      <th>promo_activated</th>\n",
       "      <th>filter_used</th>\n",
       "      <th>pageviews</th>\n",
       "      <th>visits</th>\n",
       "      <th>productClick</th>\n",
       "      <th>addToCart</th>\n",
       "      <th>checkout</th>\n",
       "      <th>transactions</th>\n",
       "      <th>revenue</th>\n",
       "    </tr>\n",
       "  </thead>\n",
       "  <tbody>\n",
       "    <tr>\n",
       "      <th>0</th>\n",
       "      <td>2020-05-11</td>\n",
       "      <td>google</td>\n",
       "      <td>organic</td>\n",
       "      <td>Не определено</td>\n",
       "      <td>Десктоп</td>\n",
       "      <td>no</td>\n",
       "      <td>no</td>\n",
       "      <td>3120</td>\n",
       "      <td>1233</td>\n",
       "      <td>5240</td>\n",
       "      <td>1048</td>\n",
       "      <td>525</td>\n",
       "      <td>90</td>\n",
       "      <td>86649.0</td>\n",
       "    </tr>\n",
       "    <tr>\n",
       "      <th>1</th>\n",
       "      <td>2020-05-11</td>\n",
       "      <td>yandex</td>\n",
       "      <td>cpc</td>\n",
       "      <td>Не определено</td>\n",
       "      <td>Мобайл</td>\n",
       "      <td>yes</td>\n",
       "      <td>no</td>\n",
       "      <td>3302</td>\n",
       "      <td>544</td>\n",
       "      <td>9930</td>\n",
       "      <td>1984</td>\n",
       "      <td>1416</td>\n",
       "      <td>217</td>\n",
       "      <td>244478.0</td>\n",
       "    </tr>\n",
       "    <tr>\n",
       "      <th>2</th>\n",
       "      <td>2020-05-11</td>\n",
       "      <td>google</td>\n",
       "      <td>cpc</td>\n",
       "      <td>Не определено</td>\n",
       "      <td>Мобайл</td>\n",
       "      <td>no</td>\n",
       "      <td>no</td>\n",
       "      <td>2970</td>\n",
       "      <td>1450</td>\n",
       "      <td>5460</td>\n",
       "      <td>1090</td>\n",
       "      <td>599</td>\n",
       "      <td>100</td>\n",
       "      <td>105150.0</td>\n",
       "    </tr>\n",
       "    <tr>\n",
       "      <th>3</th>\n",
       "      <td>2020-05-11</td>\n",
       "      <td>google</td>\n",
       "      <td>cpc</td>\n",
       "      <td>Не определено</td>\n",
       "      <td>Десктоп</td>\n",
       "      <td>no</td>\n",
       "      <td>no</td>\n",
       "      <td>1875</td>\n",
       "      <td>854</td>\n",
       "      <td>4250</td>\n",
       "      <td>848</td>\n",
       "      <td>407</td>\n",
       "      <td>71</td>\n",
       "      <td>79003.0</td>\n",
       "    </tr>\n",
       "    <tr>\n",
       "      <th>4</th>\n",
       "      <td>2020-05-11</td>\n",
       "      <td>yandex</td>\n",
       "      <td>organic</td>\n",
       "      <td>Не определено</td>\n",
       "      <td>Десктоп</td>\n",
       "      <td>no</td>\n",
       "      <td>no</td>\n",
       "      <td>2159</td>\n",
       "      <td>1000</td>\n",
       "      <td>4110</td>\n",
       "      <td>824</td>\n",
       "      <td>351</td>\n",
       "      <td>62</td>\n",
       "      <td>61861.0</td>\n",
       "    </tr>\n",
       "  </tbody>\n",
       "</table>\n",
       "</div>"
      ],
      "text/plain": [
       "        date  source   medium delivery_available device_type promo_activated  \\\n",
       "0 2020-05-11  google  organic      Не определено     Десктоп              no   \n",
       "1 2020-05-11  yandex      cpc      Не определено      Мобайл             yes   \n",
       "2 2020-05-11  google      cpc      Не определено      Мобайл              no   \n",
       "3 2020-05-11  google      cpc      Не определено     Десктоп              no   \n",
       "4 2020-05-11  yandex  organic      Не определено     Десктоп              no   \n",
       "\n",
       "  filter_used  pageviews  visits  productClick  addToCart  checkout  \\\n",
       "0          no       3120    1233          5240       1048       525   \n",
       "1          no       3302     544          9930       1984      1416   \n",
       "2          no       2970    1450          5460       1090       599   \n",
       "3          no       1875     854          4250        848       407   \n",
       "4          no       2159    1000          4110        824       351   \n",
       "\n",
       "   transactions   revenue  \n",
       "0            90   86649.0  \n",
       "1           217  244478.0  \n",
       "2           100  105150.0  \n",
       "3            71   79003.0  \n",
       "4            62   61861.0  "
      ]
     },
     "execution_count": 2,
     "metadata": {},
     "output_type": "execute_result"
    }
   ],
   "source": [
    "data = pd.read_excel('C:\\\\Users\\\\onik1\\\\Downloads\\\\summer_camp_data1.xlsx')\n",
    "data.info()\n",
    "data.head()"
   ]
  },
  {
   "cell_type": "code",
   "execution_count": 3,
   "metadata": {},
   "outputs": [
    {
     "data": {
      "text/plain": [
       "source\n",
       "yandex           4.674748e+08\n",
       "google           4.565170e+08\n",
       "(direct)         2.384474e+08\n",
       "admitad          6.573886e+07\n",
       "eLama            1.643239e+07\n",
       "cityads          1.429077e+07\n",
       "promo            5.363685e+06\n",
       "co-promo         3.347826e+06\n",
       "newsletter       2.225289e+06\n",
       "other            1.839654e+06\n",
       "DuckDuckGo       9.214030e+05\n",
       "vk               6.176850e+05\n",
       "actionpay        5.557170e+05\n",
       "bing             4.727260e+05\n",
       "advertise        4.404360e+05\n",
       "mytarget         4.136530e+05\n",
       "opmcpa           3.938250e+05\n",
       "facebook         2.940910e+05\n",
       "instagram        1.527800e+04\n",
       "yandex_direct    1.296000e+04\n",
       "sailplay         1.294100e+04\n",
       "exponea          8.804000e+03\n",
       "baidu            0.000000e+00\n",
       "youtube          0.000000e+00\n",
       "Name: revenue, dtype: float64"
      ]
     },
     "execution_count": 3,
     "metadata": {},
     "output_type": "execute_result"
    }
   ],
   "source": [
    "data.groupby('source')['revenue'].sum().sort_values(ascending=False)"
   ]
  },
  {
   "cell_type": "code",
   "execution_count": 4,
   "metadata": {},
   "outputs": [
    {
     "data": {
      "text/plain": [
       "device_type\n",
       "Мобайл           5.855571e+08\n",
       "Десктоп          5.385228e+08\n",
       "Не определено    1.517573e+08\n",
       "Name: revenue, dtype: float64"
      ]
     },
     "execution_count": 4,
     "metadata": {},
     "output_type": "execute_result"
    }
   ],
   "source": [
    "data.groupby('device_type')['revenue'].sum().sort_values(ascending=False)"
   ]
  },
  {
   "cell_type": "code",
   "execution_count": 5,
   "metadata": {},
   "outputs": [
    {
     "data": {
      "text/html": [
       "<div>\n",
       "<style scoped>\n",
       "    .dataframe tbody tr th:only-of-type {\n",
       "        vertical-align: middle;\n",
       "    }\n",
       "\n",
       "    .dataframe tbody tr th {\n",
       "        vertical-align: top;\n",
       "    }\n",
       "\n",
       "    .dataframe thead th {\n",
       "        text-align: right;\n",
       "    }\n",
       "</style>\n",
       "<table border=\"1\" class=\"dataframe\">\n",
       "  <thead>\n",
       "    <tr style=\"text-align: right;\">\n",
       "      <th></th>\n",
       "      <th>source</th>\n",
       "      <th>medium</th>\n",
       "      <th>delivery_available</th>\n",
       "      <th>device_type</th>\n",
       "      <th>promo_activated</th>\n",
       "      <th>filter_used</th>\n",
       "      <th>pageviews</th>\n",
       "      <th>visits</th>\n",
       "      <th>productClick</th>\n",
       "      <th>addToCart</th>\n",
       "      <th>checkout</th>\n",
       "      <th>transactions</th>\n",
       "      <th>revenue</th>\n",
       "    </tr>\n",
       "    <tr>\n",
       "      <th>date</th>\n",
       "      <th></th>\n",
       "      <th></th>\n",
       "      <th></th>\n",
       "      <th></th>\n",
       "      <th></th>\n",
       "      <th></th>\n",
       "      <th></th>\n",
       "      <th></th>\n",
       "      <th></th>\n",
       "      <th></th>\n",
       "      <th></th>\n",
       "      <th></th>\n",
       "      <th></th>\n",
       "    </tr>\n",
       "  </thead>\n",
       "  <tbody>\n",
       "    <tr>\n",
       "      <th>2020-01-01</th>\n",
       "      <td>google</td>\n",
       "      <td>organic</td>\n",
       "      <td>Не определено</td>\n",
       "      <td>Десктоп</td>\n",
       "      <td>yes</td>\n",
       "      <td>no</td>\n",
       "      <td>2236</td>\n",
       "      <td>317</td>\n",
       "      <td>5530</td>\n",
       "      <td>1106</td>\n",
       "      <td>793</td>\n",
       "      <td>143</td>\n",
       "      <td>166778.0</td>\n",
       "    </tr>\n",
       "    <tr>\n",
       "      <th>2020-01-01</th>\n",
       "      <td>yandex</td>\n",
       "      <td>cpc</td>\n",
       "      <td>Доставка есть</td>\n",
       "      <td>Десктоп</td>\n",
       "      <td>no</td>\n",
       "      <td>yes</td>\n",
       "      <td>25</td>\n",
       "      <td>2</td>\n",
       "      <td>60</td>\n",
       "      <td>12</td>\n",
       "      <td>10</td>\n",
       "      <td>2</td>\n",
       "      <td>1444.0</td>\n",
       "    </tr>\n",
       "    <tr>\n",
       "      <th>2020-01-01</th>\n",
       "      <td>advertise</td>\n",
       "      <td>cpa</td>\n",
       "      <td>Не определено</td>\n",
       "      <td>Десктоп</td>\n",
       "      <td>yes</td>\n",
       "      <td>no</td>\n",
       "      <td>351</td>\n",
       "      <td>60</td>\n",
       "      <td>440</td>\n",
       "      <td>88</td>\n",
       "      <td>54</td>\n",
       "      <td>10</td>\n",
       "      <td>11619.0</td>\n",
       "    </tr>\n",
       "    <tr>\n",
       "      <th>2020-01-01</th>\n",
       "      <td>google</td>\n",
       "      <td>organic</td>\n",
       "      <td>Доставки нет</td>\n",
       "      <td>Десктоп</td>\n",
       "      <td>no</td>\n",
       "      <td>no</td>\n",
       "      <td>13</td>\n",
       "      <td>1</td>\n",
       "      <td>20</td>\n",
       "      <td>4</td>\n",
       "      <td>3</td>\n",
       "      <td>1</td>\n",
       "      <td>882.0</td>\n",
       "    </tr>\n",
       "    <tr>\n",
       "      <th>2020-01-01</th>\n",
       "      <td>advertise</td>\n",
       "      <td>cpa</td>\n",
       "      <td>Доставка есть</td>\n",
       "      <td>Мобайл</td>\n",
       "      <td>yes</td>\n",
       "      <td>no</td>\n",
       "      <td>10</td>\n",
       "      <td>2</td>\n",
       "      <td>20</td>\n",
       "      <td>4</td>\n",
       "      <td>9</td>\n",
       "      <td>1</td>\n",
       "      <td>1158.0</td>\n",
       "    </tr>\n",
       "  </tbody>\n",
       "</table>\n",
       "</div>"
      ],
      "text/plain": [
       "               source   medium delivery_available device_type promo_activated  \\\n",
       "date                                                                            \n",
       "2020-01-01     google  organic      Не определено     Десктоп             yes   \n",
       "2020-01-01     yandex      cpc      Доставка есть     Десктоп              no   \n",
       "2020-01-01  advertise      cpa      Не определено     Десктоп             yes   \n",
       "2020-01-01     google  organic       Доставки нет     Десктоп              no   \n",
       "2020-01-01  advertise      cpa      Доставка есть      Мобайл             yes   \n",
       "\n",
       "           filter_used  pageviews  visits  productClick  addToCart  checkout  \\\n",
       "date                                                                           \n",
       "2020-01-01          no       2236     317          5530       1106       793   \n",
       "2020-01-01         yes         25       2            60         12        10   \n",
       "2020-01-01          no        351      60           440         88        54   \n",
       "2020-01-01          no         13       1            20          4         3   \n",
       "2020-01-01          no         10       2            20          4         9   \n",
       "\n",
       "            transactions   revenue  \n",
       "date                                \n",
       "2020-01-01           143  166778.0  \n",
       "2020-01-01             2    1444.0  \n",
       "2020-01-01            10   11619.0  \n",
       "2020-01-01             1     882.0  \n",
       "2020-01-01             1    1158.0  "
      ]
     },
     "execution_count": 5,
     "metadata": {},
     "output_type": "execute_result"
    }
   ],
   "source": [
    "data1 = pd.read_excel('C:\\\\Users\\\\onik1\\\\Downloads\\\\summer_camp_data1.xlsx', parse_dates=[0], index_col=[0])\n",
    "data1 = data1.sort_index()\n",
    "data1.head()"
   ]
  },
  {
   "cell_type": "code",
   "execution_count": 6,
   "metadata": {},
   "outputs": [
    {
     "data": {
      "text/html": [
       "<div>\n",
       "<style scoped>\n",
       "    .dataframe tbody tr th:only-of-type {\n",
       "        vertical-align: middle;\n",
       "    }\n",
       "\n",
       "    .dataframe tbody tr th {\n",
       "        vertical-align: top;\n",
       "    }\n",
       "\n",
       "    .dataframe thead th {\n",
       "        text-align: right;\n",
       "    }\n",
       "</style>\n",
       "<table border=\"1\" class=\"dataframe\">\n",
       "  <thead>\n",
       "    <tr style=\"text-align: right;\">\n",
       "      <th></th>\n",
       "      <th>pageviews</th>\n",
       "      <th>visits</th>\n",
       "      <th>productClick</th>\n",
       "      <th>addToCart</th>\n",
       "      <th>checkout</th>\n",
       "      <th>transactions</th>\n",
       "      <th>revenue</th>\n",
       "    </tr>\n",
       "    <tr>\n",
       "      <th>date</th>\n",
       "      <th></th>\n",
       "      <th></th>\n",
       "      <th></th>\n",
       "      <th></th>\n",
       "      <th></th>\n",
       "      <th></th>\n",
       "      <th></th>\n",
       "    </tr>\n",
       "  </thead>\n",
       "  <tbody>\n",
       "    <tr>\n",
       "      <th>2020-01-01</th>\n",
       "      <td>23150</td>\n",
       "      <td>7918</td>\n",
       "      <td>55820</td>\n",
       "      <td>11156</td>\n",
       "      <td>7510</td>\n",
       "      <td>1095</td>\n",
       "      <td>1278862.0</td>\n",
       "    </tr>\n",
       "    <tr>\n",
       "      <th>2020-01-02</th>\n",
       "      <td>31038</td>\n",
       "      <td>10538</td>\n",
       "      <td>73110</td>\n",
       "      <td>14610</td>\n",
       "      <td>9808</td>\n",
       "      <td>1509</td>\n",
       "      <td>1774136.0</td>\n",
       "    </tr>\n",
       "    <tr>\n",
       "      <th>2020-01-03</th>\n",
       "      <td>31247</td>\n",
       "      <td>10537</td>\n",
       "      <td>74220</td>\n",
       "      <td>14830</td>\n",
       "      <td>9862</td>\n",
       "      <td>1564</td>\n",
       "      <td>1889112.0</td>\n",
       "    </tr>\n",
       "    <tr>\n",
       "      <th>2020-01-04</th>\n",
       "      <td>33648</td>\n",
       "      <td>11265</td>\n",
       "      <td>81390</td>\n",
       "      <td>16264</td>\n",
       "      <td>10428</td>\n",
       "      <td>1702</td>\n",
       "      <td>2072428.0</td>\n",
       "    </tr>\n",
       "    <tr>\n",
       "      <th>2020-01-05</th>\n",
       "      <td>33475</td>\n",
       "      <td>11149</td>\n",
       "      <td>79590</td>\n",
       "      <td>15908</td>\n",
       "      <td>10609</td>\n",
       "      <td>1703</td>\n",
       "      <td>2061834.0</td>\n",
       "    </tr>\n",
       "  </tbody>\n",
       "</table>\n",
       "</div>"
      ],
      "text/plain": [
       "            pageviews  visits  productClick  addToCart  checkout  \\\n",
       "date                                                               \n",
       "2020-01-01      23150    7918         55820      11156      7510   \n",
       "2020-01-02      31038   10538         73110      14610      9808   \n",
       "2020-01-03      31247   10537         74220      14830      9862   \n",
       "2020-01-04      33648   11265         81390      16264     10428   \n",
       "2020-01-05      33475   11149         79590      15908     10609   \n",
       "\n",
       "            transactions    revenue  \n",
       "date                                 \n",
       "2020-01-01          1095  1278862.0  \n",
       "2020-01-02          1509  1774136.0  \n",
       "2020-01-03          1564  1889112.0  \n",
       "2020-01-04          1702  2072428.0  \n",
       "2020-01-05          1703  2061834.0  "
      ]
     },
     "execution_count": 6,
     "metadata": {},
     "output_type": "execute_result"
    }
   ],
   "source": [
    "data_cpc = data1.query('medium == \"cpc\"').resample('1D').sum()\n",
    "data_cpc.head()"
   ]
  },
  {
   "cell_type": "code",
   "execution_count": 7,
   "metadata": {},
   "outputs": [
    {
     "data": {
      "text/plain": [
       "<matplotlib.axes._subplots.AxesSubplot at 0x19c9722c748>"
      ]
     },
     "execution_count": 7,
     "metadata": {},
     "output_type": "execute_result"
    },
    {
     "data": {
      "image/png": "[encoded data removed]",
      "text/plain": [
       "<Figure size 1296x360 with 1 Axes>"
      ]
     },
     "metadata": {
      "needs_background": "light"
     },
     "output_type": "display_data"
    }
   ],
   "source": [
    "data_cpc['revenue'].plot(figsize=(18, 5))"
   ]
  },
  {
   "cell_type": "code",
   "execution_count": 8,
   "metadata": {},
   "outputs": [
    {
     "data": {
      "text/plain": [
       "<matplotlib.axes._subplots.AxesSubplot at 0x19c96af2c08>"
      ]
     },
     "execution_count": 8,
     "metadata": {},
     "output_type": "execute_result"
    },
    {
     "data": {
      "image/png": "[encoded data removed]",
      "text/plain": [
       "<Figure size 1296x360 with 1 Axes>"
      ]
     },
     "metadata": {
      "needs_background": "light"
     },
     "output_type": "display_data"
    }
   ],
   "source": [
    "data_cpc['revenue']['2020-03':'2020-04'].plot(figsize=(18, 5))"
   ]
  },
  {
   "cell_type": "code",
   "execution_count": 9,
   "metadata": {},
   "outputs": [
    {
     "data": {
      "text/plain": [
       "<matplotlib.axes._subplots.AxesSubplot at 0x19c965a2048>"
      ]
     },
     "execution_count": 9,
     "metadata": {},
     "output_type": "execute_result"
    },
    {
     "data": {
      "image/png": "[encoded data removed]",
      "text/plain": [
       "<Figure size 1296x360 with 1 Axes>"
      ]
     },
     "metadata": {
      "needs_background": "light"
     },
     "output_type": "display_data"
    }
   ],
   "source": [
    "data_cpc['revenue']['2020-02':'2020-03-15'].plot(figsize=(18, 5))"
   ]
  },
  {
   "cell_type": "markdown",
   "metadata": {},
   "source": [
    "Возьмем дату начала ограничительных мер 30 марта 2020 года на основании сайта\n",
    "\n",
    "https://riamo.ru/article/438032/hronologiya-karantina-kak-vvodilis-i-snimalis-ogranicheniya-v-moskovskom-regione.xl"
   ]
  },
  {
   "cell_type": "code",
   "execution_count": 10,
   "metadata": {},
   "outputs": [
    {
     "name": "stdout",
     "output_type": "stream",
     "text": [
      "Средний размер чека транзакции до введения ограничений: 27750.17\n",
      "Средний размер чека транзакции после введения ограничений: 22651.12\n"
     ]
    }
   ],
   "source": [
    "print('Средний размер чека транзакции до введения ограничений: {:.2f}'.format(data1[:'2020-03-29']['revenue'].mean()))\n",
    "print('Средний размер чека транзакции после введения ограничений: {:.2f}'.format(data1['2020-03-30':]['revenue'].mean()))"
   ]
  },
  {
   "cell_type": "code",
   "execution_count": 11,
   "metadata": {},
   "outputs": [
    {
     "name": "stdout",
     "output_type": "stream",
     "text": [
      "Средний размер чека транзакции с использованием промокода до введения ограничений: 30041.13\n",
      "Средний размер чека транзакции с использованием промокода после введения ограничений: 24807.17\n"
     ]
    }
   ],
   "source": [
    "print('Средний размер чека транзакции с использованием промокода до введения ограничений: {:.2f}'\n",
    "      .format(data1.query('promo_activated == \"yes\"')[:'2020-03-29']['revenue'].mean()))\n",
    "print('Средний размер чека транзакции с использованием промокода после введения ограничений: {:.2f}'\n",
    "      .format(data1.query('promo_activated == \"yes\"')['2020-03-30':]['revenue'].mean()))"
   ]
  },
  {
   "cell_type": "code",
   "execution_count": 12,
   "metadata": {},
   "outputs": [
    {
     "name": "stdout",
     "output_type": "stream",
     "text": [
      "Средний размер чека транзакции без использования промокода до введения ограничений: 25794.45\n",
      "Средний размер чека транзакции без использования промокода после введения ограничений: 20622.12\n"
     ]
    }
   ],
   "source": [
    "print('Средний размер чека транзакции без использования промокода до введения ограничений: {:.2f}'\n",
    "      .format(data1.query('promo_activated == \"no\"')[:'2020-03-29']['revenue'].mean()))\n",
    "print('Средний размер чека транзакции без использования промокода после введения ограничений: {:.2f}'\n",
    "      .format(data1.query('promo_activated == \"no\"')['2020-03-30':]['revenue'].mean()))"
   ]
  },
  {
   "cell_type": "markdown",
   "metadata": {},
   "source": [
    "### Проверка гипотез:\n",
    "    Н0, коэффициент конверсии в выходные и будние дни одинаковый;\n",
    "    Н1, коэффициент конверсии в выходные и будние дни разный.\n",
    "    \n",
    "Подготовим данные"
   ]
  },
  {
   "cell_type": "code",
   "execution_count": 13,
   "metadata": {},
   "outputs": [
    {
     "data": {
      "text/html": [
       "<div>\n",
       "<style scoped>\n",
       "    .dataframe tbody tr th:only-of-type {\n",
       "        vertical-align: middle;\n",
       "    }\n",
       "\n",
       "    .dataframe tbody tr th {\n",
       "        vertical-align: top;\n",
       "    }\n",
       "\n",
       "    .dataframe thead th {\n",
       "        text-align: right;\n",
       "    }\n",
       "</style>\n",
       "<table border=\"1\" class=\"dataframe\">\n",
       "  <thead>\n",
       "    <tr style=\"text-align: right;\">\n",
       "      <th></th>\n",
       "      <th>pageviews</th>\n",
       "      <th>visits</th>\n",
       "      <th>productClick</th>\n",
       "      <th>addToCart</th>\n",
       "      <th>checkout</th>\n",
       "      <th>transactions</th>\n",
       "      <th>revenue</th>\n",
       "      <th>dayofweek</th>\n",
       "    </tr>\n",
       "    <tr>\n",
       "      <th>date</th>\n",
       "      <th></th>\n",
       "      <th></th>\n",
       "      <th></th>\n",
       "      <th></th>\n",
       "      <th></th>\n",
       "      <th></th>\n",
       "      <th></th>\n",
       "      <th></th>\n",
       "    </tr>\n",
       "  </thead>\n",
       "  <tbody>\n",
       "    <tr>\n",
       "      <th>2020-01-01</th>\n",
       "      <td>62709</td>\n",
       "      <td>21736</td>\n",
       "      <td>131780</td>\n",
       "      <td>26354</td>\n",
       "      <td>18920</td>\n",
       "      <td>3107</td>\n",
       "      <td>3528167.0</td>\n",
       "      <td>2</td>\n",
       "    </tr>\n",
       "    <tr>\n",
       "      <th>2020-01-02</th>\n",
       "      <td>80623</td>\n",
       "      <td>27774</td>\n",
       "      <td>170190</td>\n",
       "      <td>34018</td>\n",
       "      <td>24013</td>\n",
       "      <td>4208</td>\n",
       "      <td>4867543.0</td>\n",
       "      <td>3</td>\n",
       "    </tr>\n",
       "    <tr>\n",
       "      <th>2020-01-03</th>\n",
       "      <td>81987</td>\n",
       "      <td>28168</td>\n",
       "      <td>172520</td>\n",
       "      <td>34476</td>\n",
       "      <td>23881</td>\n",
       "      <td>4260</td>\n",
       "      <td>4978608.0</td>\n",
       "      <td>4</td>\n",
       "    </tr>\n",
       "    <tr>\n",
       "      <th>2020-01-04</th>\n",
       "      <td>85679</td>\n",
       "      <td>29164</td>\n",
       "      <td>186350</td>\n",
       "      <td>37240</td>\n",
       "      <td>24949</td>\n",
       "      <td>4549</td>\n",
       "      <td>5338299.0</td>\n",
       "      <td>5</td>\n",
       "    </tr>\n",
       "    <tr>\n",
       "      <th>2020-01-05</th>\n",
       "      <td>83842</td>\n",
       "      <td>28360</td>\n",
       "      <td>180290</td>\n",
       "      <td>36026</td>\n",
       "      <td>24861</td>\n",
       "      <td>4498</td>\n",
       "      <td>5300997.0</td>\n",
       "      <td>6</td>\n",
       "    </tr>\n",
       "  </tbody>\n",
       "</table>\n",
       "</div>"
      ],
      "text/plain": [
       "            pageviews  visits  productClick  addToCart  checkout  \\\n",
       "date                                                               \n",
       "2020-01-01      62709   21736        131780      26354     18920   \n",
       "2020-01-02      80623   27774        170190      34018     24013   \n",
       "2020-01-03      81987   28168        172520      34476     23881   \n",
       "2020-01-04      85679   29164        186350      37240     24949   \n",
       "2020-01-05      83842   28360        180290      36026     24861   \n",
       "\n",
       "            transactions    revenue  dayofweek  \n",
       "date                                            \n",
       "2020-01-01          3107  3528167.0          2  \n",
       "2020-01-02          4208  4867543.0          3  \n",
       "2020-01-03          4260  4978608.0          4  \n",
       "2020-01-04          4549  5338299.0          5  \n",
       "2020-01-05          4498  5300997.0          6  "
      ]
     },
     "execution_count": 13,
     "metadata": {},
     "output_type": "execute_result"
    }
   ],
   "source": [
    "data_cr = data1.resample('1D').sum()\n",
    "data_cr['dayofweek'] = data_cr.index.dayofweek\n",
    "data_cr.head()"
   ]
  },
  {
   "cell_type": "code",
   "execution_count": 14,
   "metadata": {},
   "outputs": [
    {
     "data": {
      "text/html": [
       "<div>\n",
       "<style scoped>\n",
       "    .dataframe tbody tr th:only-of-type {\n",
       "        vertical-align: middle;\n",
       "    }\n",
       "\n",
       "    .dataframe tbody tr th {\n",
       "        vertical-align: top;\n",
       "    }\n",
       "\n",
       "    .dataframe thead th {\n",
       "        text-align: right;\n",
       "    }\n",
       "</style>\n",
       "<table border=\"1\" class=\"dataframe\">\n",
       "  <thead>\n",
       "    <tr style=\"text-align: right;\">\n",
       "      <th></th>\n",
       "      <th>date</th>\n",
       "      <th>pageviews</th>\n",
       "      <th>visits</th>\n",
       "      <th>productClick</th>\n",
       "      <th>addToCart</th>\n",
       "      <th>checkout</th>\n",
       "      <th>transactions</th>\n",
       "      <th>revenue</th>\n",
       "      <th>dayofweek</th>\n",
       "      <th>cr</th>\n",
       "    </tr>\n",
       "  </thead>\n",
       "  <tbody>\n",
       "    <tr>\n",
       "      <th>0</th>\n",
       "      <td>2020-01-01</td>\n",
       "      <td>62709</td>\n",
       "      <td>21736</td>\n",
       "      <td>131780</td>\n",
       "      <td>26354</td>\n",
       "      <td>18920</td>\n",
       "      <td>3107</td>\n",
       "      <td>3528167.0</td>\n",
       "      <td>2</td>\n",
       "      <td>14.294258</td>\n",
       "    </tr>\n",
       "    <tr>\n",
       "      <th>1</th>\n",
       "      <td>2020-01-02</td>\n",
       "      <td>80623</td>\n",
       "      <td>27774</td>\n",
       "      <td>170190</td>\n",
       "      <td>34018</td>\n",
       "      <td>24013</td>\n",
       "      <td>4208</td>\n",
       "      <td>4867543.0</td>\n",
       "      <td>3</td>\n",
       "      <td>15.150861</td>\n",
       "    </tr>\n",
       "    <tr>\n",
       "      <th>2</th>\n",
       "      <td>2020-01-03</td>\n",
       "      <td>81987</td>\n",
       "      <td>28168</td>\n",
       "      <td>172520</td>\n",
       "      <td>34476</td>\n",
       "      <td>23881</td>\n",
       "      <td>4260</td>\n",
       "      <td>4978608.0</td>\n",
       "      <td>4</td>\n",
       "      <td>15.123544</td>\n",
       "    </tr>\n",
       "    <tr>\n",
       "      <th>3</th>\n",
       "      <td>2020-01-04</td>\n",
       "      <td>85679</td>\n",
       "      <td>29164</td>\n",
       "      <td>186350</td>\n",
       "      <td>37240</td>\n",
       "      <td>24949</td>\n",
       "      <td>4549</td>\n",
       "      <td>5338299.0</td>\n",
       "      <td>5</td>\n",
       "      <td>15.597998</td>\n",
       "    </tr>\n",
       "    <tr>\n",
       "      <th>4</th>\n",
       "      <td>2020-01-05</td>\n",
       "      <td>83842</td>\n",
       "      <td>28360</td>\n",
       "      <td>180290</td>\n",
       "      <td>36026</td>\n",
       "      <td>24861</td>\n",
       "      <td>4498</td>\n",
       "      <td>5300997.0</td>\n",
       "      <td>6</td>\n",
       "      <td>15.860367</td>\n",
       "    </tr>\n",
       "  </tbody>\n",
       "</table>\n",
       "</div>"
      ],
      "text/plain": [
       "        date  pageviews  visits  productClick  addToCart  checkout  \\\n",
       "0 2020-01-01      62709   21736        131780      26354     18920   \n",
       "1 2020-01-02      80623   27774        170190      34018     24013   \n",
       "2 2020-01-03      81987   28168        172520      34476     23881   \n",
       "3 2020-01-04      85679   29164        186350      37240     24949   \n",
       "4 2020-01-05      83842   28360        180290      36026     24861   \n",
       "\n",
       "   transactions    revenue  dayofweek         cr  \n",
       "0          3107  3528167.0          2  14.294258  \n",
       "1          4208  4867543.0          3  15.150861  \n",
       "2          4260  4978608.0          4  15.123544  \n",
       "3          4549  5338299.0          5  15.597998  \n",
       "4          4498  5300997.0          6  15.860367  "
      ]
     },
     "execution_count": 14,
     "metadata": {},
     "output_type": "execute_result"
    }
   ],
   "source": [
    "# CR = сделавшие транзакацию / всего посетителей * 100\n",
    "data_cr['cr'] = data_cr['transactions'] / data_cr['visits'] * 100\n",
    "data_cr.reset_index(inplace=True)\n",
    "data_cr.head()"
   ]
  },
  {
   "cell_type": "markdown",
   "metadata": {},
   "source": [
    "С помощью теста Шапиро-Уилка проверим генеральную совокупность на нормальность."
   ]
  },
  {
   "cell_type": "code",
   "execution_count": 15,
   "metadata": {},
   "outputs": [
    {
     "name": "stdout",
     "output_type": "stream",
     "text": [
      "Statistics=0.997, p-value=0.858\n",
      "Принять гипотезу о нормальности\n"
     ]
    }
   ],
   "source": [
    "stat, p = st.shapiro(data_cr['cr']) # тест Шапиро-Уилка на нормальность\n",
    "print('Statistics=%.3f, p-value=%.3f' % (stat, p))\n",
    "alpha = 0.05\n",
    "if p < alpha:\n",
    "    print('Отклонить гипотезу о нормальности')\n",
    "else:\n",
    "    print('Принять гипотезу о нормальности')"
   ]
  },
  {
   "cell_type": "code",
   "execution_count": 16,
   "metadata": {},
   "outputs": [],
   "source": [
    "data_cr_weekday = data_cr.query('dayofweek != (5, 6)')\n",
    "data_cr_holidays = data_cr.query('dayofweek == (5, 6)')"
   ]
  },
  {
   "cell_type": "code",
   "execution_count": 17,
   "metadata": {},
   "outputs": [
    {
     "name": "stdout",
     "output_type": "stream",
     "text": [
      "Statistics=6.238, p-value=0.013\n",
      "Отклонить гипотезу о равенстве дисперсий\n"
     ]
    }
   ],
   "source": [
    "# проверка на равенство дисперсий\n",
    "test_leven, p = st.levene(data_cr_weekday['cr'], data_cr_holidays['cr'])\n",
    "print('Statistics=%.3f, p-value=%.3f' % (test_leven, p))\n",
    "alpha = 0.05\n",
    "if p < alpha:\n",
    "    print('Отклонить гипотезу о равенстве дисперсий')\n",
    "else:\n",
    "    print('Принять гипотезу о равенстве дисперсий')"
   ]
  },
  {
   "cell_type": "code",
   "execution_count": 18,
   "metadata": {},
   "outputs": [
    {
     "name": "stdout",
     "output_type": "stream",
     "text": [
      "p-значение: 3.0249861684812265e-25\n",
      "Отвергаем нулевую гипотезу\n"
     ]
    }
   ],
   "source": [
    "alpha = .05\n",
    "\n",
    "results = st.ttest_ind(\n",
    "    data_cr_weekday['cr'], \n",
    "    data_cr_holidays['cr'],\n",
    "    equal_var=False)\n",
    "\n",
    "print('p-значение:', results.pvalue)\n",
    "\n",
    "if (results.pvalue < alpha):\n",
    "    print(\"Отвергаем нулевую гипотезу\")\n",
    "else:\n",
    "    print(\"Не получилось отвергнуть нулевую гипотезу\")"
   ]
  },
  {
   "cell_type": "markdown",
   "metadata": {},
   "source": [
    "С уверенностью в 95% мы можем сказать, что CR в выходные и будние дни отличаются."
   ]
  },
  {
   "cell_type": "code",
   "execution_count": null,
   "metadata": {},
   "outputs": [],
   "source": []
  },
  {
   "cell_type": "code",
   "execution_count": null,
   "metadata": {},
   "outputs": [],
   "source": []
  }
 ],
 "metadata": {
  "kernelspec": {
   "display_name": "Python 3",
   "language": "python",
   "name": "python3"
  },
  "language_info": {
   "codemirror_mode": {
    "name": "ipython",
    "version": 3
   },
   "file_extension": ".py",
   "mimetype": "text/x-python",
   "name": "python",
   "nbconvert_exporter": "python",
   "pygments_lexer": "ipython3",
   "version": "3.7.6"
  }
 },
 "nbformat": 4,
 "nbformat_minor": 4
}
